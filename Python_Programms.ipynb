{
  "nbformat": 4,
  "nbformat_minor": 0,
  "metadata": {
    "colab": {
      "provenance": [],
      "authorship_tag": "ABX9TyOcc20KW+Pvna2Bc405ORDn",
      "include_colab_link": true
    },
    "kernelspec": {
      "name": "python3",
      "display_name": "Python 3"
    },
    "language_info": {
      "name": "python"
    }
  },
  "cells": [
    {
      "cell_type": "markdown",
      "metadata": {
        "id": "view-in-github",
        "colab_type": "text"
      },
      "source": [
        "<a href=\"https://colab.research.google.com/github/Saikiran4545/Data_Science_Python/blob/main/Python_Programms.ipynb\" target=\"_parent\"><img src=\"https://colab.research.google.com/assets/colab-badge.svg\" alt=\"Open In Colab\"/></a>"
      ]
    },
    {
      "cell_type": "code",
      "execution_count": null,
      "metadata": {
        "colab": {
          "base_uri": "https://localhost:8080/"
        },
        "id": "N5L9BvmpvunC",
        "outputId": "67f04071-f7d8-49c1-c32a-6c77ad08dcd9"
      },
      "outputs": [
        {
          "output_type": "stream",
          "name": "stdout",
          "text": [
            "Hello World\n"
          ]
        }
      ],
      "source": [
        "# ProgrammeNo:- 1 :- \n",
        "#print Hello World\n",
        "print(\"Hello World\")"
      ]
    },
    {
      "cell_type": "code",
      "source": [
        "#Programme 21:- We  cant add directly number and string so we use format method\n",
        "age = 25\n",
        "txt = \"My name is John, and my age is {}\" #The format() method takes the passed arguments, \n",
        "#formats them, and places them in the string where the placeholders {} are:\n",
        "print(txt.format(age))"
      ],
      "metadata": {
        "id": "nDTmjEFcxJem",
        "colab": {
          "base_uri": "https://localhost:8080/"
        },
        "outputId": "ef235749-dd70-416d-bdb2-2fbec705d01b"
      },
      "execution_count": 1,
      "outputs": [
        {
          "output_type": "stream",
          "name": "stdout",
          "text": [
            "My name is John, and my age is 25\n"
          ]
        }
      ]
    },
    {
      "cell_type": "code",
      "source": [
        "#Programme 22\n",
        "quantity = 120\n",
        "itemno = 256\n",
        "price = 10000\n",
        "myorder = \"I want pieces {} of item {} of the dollars {}\" # We can pass any number of arguments and places into {} resp place holders\n",
        "print (myorder.format(quantity,itemno,price))"
      ],
      "metadata": {
        "colab": {
          "base_uri": "https://localhost:8080/"
        },
        "id": "cZazvSF645yR",
        "outputId": "6c35a82c-6cde-4c44-8cf9-125a1521f596"
      },
      "execution_count": 2,
      "outputs": [
        {
          "output_type": "stream",
          "name": "stdout",
          "text": [
            "I want pieces 120 of item 256 of the dollars 10000\n"
          ]
        }
      ]
    },
    {
      "cell_type": "code",
      "source": [
        "#Programme 23\n",
        "quantity= 3\n",
        "itemno = 89\n",
        "price =100\n",
        "myorder = \" I want to pay {2} for item {0} of the quantity {1}\" # we can use the indexing for the format also\n",
        "print(myorder.format(quantity,itemno,price))"
      ],
      "metadata": {
        "colab": {
          "base_uri": "https://localhost:8080/"
        },
        "id": "DsNr3YUe7n6e",
        "outputId": "8e1c1326-a36b-46e3-8aa8-be9867fcc64b"
      },
      "execution_count": 3,
      "outputs": [
        {
          "output_type": "stream",
          "name": "stdout",
          "text": [
            " I want to pay 100 for item 3 of the quantity 89\n"
          ]
        }
      ]
    },
    {
      "cell_type": "code",
      "source": [
        "#Programme 24\n",
        "txt = \"We are so called \\\"vikings\\\" from north\" # usually we cant add double quotes in string but we can add by using \\\n",
        "print(txt)"
      ],
      "metadata": {
        "colab": {
          "base_uri": "https://localhost:8080/"
        },
        "id": "QEEr4qSRDajx",
        "outputId": "28cb4424-03f4-4182-943b-aa39e3d10161"
      },
      "execution_count": 6,
      "outputs": [
        {
          "output_type": "stream",
          "name": "stdout",
          "text": [
            "We are so called \"vikings\" from north\n"
          ]
        }
      ]
    },
    {
      "cell_type": "code",
      "source": [
        "#Programme 25\n",
        "a = 100\n",
        "b = 200\n",
        "if b>a:\n",
        "   print (\"a is greater than b\" )\n",
        "else:\n",
        "   print(\"a is less than b\")"
      ],
      "metadata": {
        "colab": {
          "base_uri": "https://localhost:8080/"
        },
        "id": "FQbo9NFSM50v",
        "outputId": "d9c7aac1-b6be-4312-83ef-fb034503abc6"
      },
      "execution_count": 11,
      "outputs": [
        {
          "output_type": "stream",
          "name": "stdout",
          "text": [
            "a is greater than b\n"
          ]
        }
      ]
    },
    {
      "cell_type": "code",
      "source": [
        "\n",
        "#Programme 11:-\n",
        "#Given two numbers num1 and num2. The task is to write a Python program to find the addition of these two numbers. \n",
        "\n",
        "num1 = 15 \n",
        "num2 = 20\n",
        "sum= num1+num2\n",
        "print(sum)"
      ],
      "metadata": {
        "id": "ew_kL-eRxM3_"
      },
      "execution_count": null,
      "outputs": []
    },
    {
      "cell_type": "code",
      "source": [
        "#Programme 26\n",
        "Fruits= [\"banana\",\"Apple\",\"orange\"]\n",
        "print(Fruits)"
      ],
      "metadata": {
        "colab": {
          "base_uri": "https://localhost:8080/"
        },
        "id": "OVEbIwXt3WdX",
        "outputId": "5cb721da-1f09-4ac9-b0f8-77b0535f6cef"
      },
      "execution_count": 1,
      "outputs": [
        {
          "output_type": "stream",
          "name": "stdout",
          "text": [
            "['banana', 'Apple', 'orange']\n"
          ]
        }
      ]
    },
    {
      "cell_type": "code",
      "source": [
        "#Programme 27\n",
        "Fruits = [\"banana\",\"Apple\",\"orange\",\"Apple\"] # duplicates are allowed in list\n",
        "print(Fruits)\n",
        "print(len(Fruits))"
      ],
      "metadata": {
        "colab": {
          "base_uri": "https://localhost:8080/"
        },
        "id": "_nRFQS6mnLSS",
        "outputId": "ce989299-53bd-46c4-a3aa-2eebc8a81f2a"
      },
      "execution_count": 3,
      "outputs": [
        {
          "output_type": "stream",
          "name": "stdout",
          "text": [
            "['banana', 'Apple', 'orange', 'Apple']\n",
            "4\n"
          ]
        }
      ]
    },
    {
      "cell_type": "code",
      "source": [
        "#Programme 28\n",
        "List1=[\"banana\", \"cherry\", \"apple\"]\n",
        "List2=[1,2,3]\n",
        "List3=[True,False]\n",
        "print(List1)\n",
        "print(List2)\n",
        "print(List3)\n"
      ],
      "metadata": {
        "colab": {
          "base_uri": "https://localhost:8080/"
        },
        "id": "btLl19qMoq7u",
        "outputId": "e8f36918-ed86-4d39-809d-63d5bc58b779"
      },
      "execution_count": 4,
      "outputs": [
        {
          "output_type": "stream",
          "name": "stdout",
          "text": [
            "['banana', 'cherry', 'apple']\n",
            "[1, 2, 3]\n",
            "[True, False]\n"
          ]
        }
      ]
    },
    {
      "cell_type": "code",
      "source": [
        "#Programme 29\n",
        "thislist = list((\"apple\", \"banana\", \"cherry\")) # note the double round-brackets\n",
        "print(thislist)"
      ],
      "metadata": {
        "colab": {
          "base_uri": "https://localhost:8080/"
        },
        "id": "MBd2ahNSp_9d",
        "outputId": "97173329-5136-4955-9d9c-a56396754b25"
      },
      "execution_count": 5,
      "outputs": [
        {
          "output_type": "stream",
          "name": "stdout",
          "text": [
            "['apple', 'banana', 'cherry']\n"
          ]
        }
      ]
    },
    {
      "cell_type": "code",
      "source": [
        "#Programme 30\n",
        "thislist = [\"apple\", \"banana\", \"cherry\", \"orange\", \"kiwi\", \"melon\", \"mango\"]\n",
        "print(thislist[2:5]) #we can decite where to start and where to end"
      ],
      "metadata": {
        "colab": {
          "base_uri": "https://localhost:8080/"
        },
        "id": "JdElbNe6uwjH",
        "outputId": "716b7703-2cd4-4650-965a-729f76b08615"
      },
      "execution_count": 6,
      "outputs": [
        {
          "output_type": "stream",
          "name": "stdout",
          "text": [
            "['cherry', 'orange', 'kiwi']\n"
          ]
        }
      ]
    },
    {
      "cell_type": "code",
      "source": [
        "#Programme 31\n",
        "thislist = [\"apple\", \"banana\", \"cherry\", \"orange\", \"kiwi\", \"melon\", \"mango\"]\n",
        "print(thislist[:5])\n",
        "print(thislist[3:])\n",
        "print(thislist[-4:-1])\n",
        "print(thislist[:-1])\n",
        "print(thislist[-3:])"
      ],
      "metadata": {
        "colab": {
          "base_uri": "https://localhost:8080/"
        },
        "id": "k_wDOQJglafP",
        "outputId": "abcba2f5-6a24-4b44-a868-55485c8eba6b"
      },
      "execution_count": 5,
      "outputs": [
        {
          "output_type": "stream",
          "name": "stdout",
          "text": [
            "['apple', 'banana', 'cherry', 'orange', 'kiwi']\n",
            "['orange', 'kiwi', 'melon', 'mango']\n",
            "['orange', 'kiwi', 'melon']\n",
            "['apple', 'banana', 'cherry', 'orange', 'kiwi', 'melon']\n",
            "['kiwi', 'melon', 'mango']\n"
          ]
        }
      ]
    },
    {
      "cell_type": "code",
      "source": [
        "#Programme 32\n",
        "Fruit = [\"Banana\",\"Apple\",\"Cherry\"]\n",
        "Fruit[1]=\"Pear\"\n",
        "print(Fruit)"
      ],
      "metadata": {
        "colab": {
          "base_uri": "https://localhost:8080/"
        },
        "id": "Q2NClP7inMKF",
        "outputId": "9165b43d-0729-42f8-f573-51d9da0ced05"
      },
      "execution_count": 6,
      "outputs": [
        {
          "output_type": "stream",
          "name": "stdout",
          "text": [
            "['Banana', 'Pear', 'Cherry']\n"
          ]
        }
      ]
    },
    {
      "cell_type": "code",
      "source": [],
      "metadata": {
        "id": "u64Xx8NVmmkF"
      },
      "execution_count": null,
      "outputs": []
    },
    {
      "cell_type": "code",
      "source": [
        "#Programme 12 :-\n",
        "#Adding two number provided by user input \n",
        "num1 = input(\"First number\") #variable declared as num1  and input is gives to type out put on console\n",
        "num2 = input(\"Second number\") #same as above \n",
        "sum = (num1 + num2) #addition of two variable \n",
        "print(sum)\n",
        "print(\"sum of {0} and sum of {1} is {2}\" .format(num1,num2,sum)) #used the format function so we get this o/p :- sum of 10.5 and sum of 20.5 is 10.520.5"
      ],
      "metadata": {
        "colab": {
          "base_uri": "https://localhost:8080/"
        },
        "id": "yBI0GCU0xp1v",
        "outputId": "9bf6e0b0-1f9f-4ad4-c17d-1ef5ab75455a"
      },
      "execution_count": null,
      "outputs": [
        {
          "output_type": "stream",
          "name": "stdout",
          "text": [
            "First number10.5\n",
            "Second number20.5\n",
            "10.520.5\n",
            "sum of 10.5 and sum of 20.5 is 10.520.5\n"
          ]
        }
      ]
    },
    {
      "cell_type": "code",
      "source": [],
      "metadata": {
        "id": "Pj0tIVOO4MMr"
      },
      "execution_count": null,
      "outputs": []
    },
    {
      "cell_type": "code",
      "source": [
        "#Programme 13  :-\n",
        "import random\n",
        "print(random.randrange(1,20))"
      ],
      "metadata": {
        "colab": {
          "base_uri": "https://localhost:8080/"
        },
        "id": "qvxNhyEM7_0l",
        "outputId": "1dd7146e-463a-4875-ab93-1d99a3a62454"
      },
      "execution_count": null,
      "outputs": [
        {
          "output_type": "stream",
          "name": "stdout",
          "text": [
            "5\n"
          ]
        }
      ]
    },
    {
      "cell_type": "code",
      "source": [],
      "metadata": {
        "id": "mDzkw2Rw8l7q"
      },
      "execution_count": null,
      "outputs": []
    },
    {
      "cell_type": "code",
      "source": [
        "#programme 14\n",
        "for x in \"banana\": # we made a for loop for the string. As strings are array we can do looping\n",
        "       print(x)"
      ],
      "metadata": {
        "colab": {
          "base_uri": "https://localhost:8080/"
        },
        "id": "cOpZ-NipB--7",
        "outputId": "772b48d7-9355-4174-e6ff-73db2c081e81"
      },
      "execution_count": null,
      "outputs": [
        {
          "output_type": "stream",
          "name": "stdout",
          "text": [
            "b\n",
            "a\n",
            "n\n",
            "a\n",
            "n\n",
            "a\n"
          ]
        }
      ]
    },
    {
      "cell_type": "code",
      "source": [
        "#Programme 15\n",
        "a = \"Hello, World!\"\n",
        "print(len(a))  # len() this function gives the length of string"
      ],
      "metadata": {
        "colab": {
          "base_uri": "https://localhost:8080/"
        },
        "id": "QV9nymQnCkrb",
        "outputId": "ea678adf-1aef-43bc-c485-f15d5de490cf"
      },
      "execution_count": null,
      "outputs": [
        {
          "output_type": "stream",
          "name": "stdout",
          "text": [
            "13\n"
          ]
        }
      ]
    },
    {
      "cell_type": "code",
      "source": [
        "#Programme 16\n",
        "txt = \" The best moments in life\"\n",
        "print(\"best\" in txt) # we use in keyword to checkthe string and we get boolean o/p"
      ],
      "metadata": {
        "colab": {
          "base_uri": "https://localhost:8080/"
        },
        "id": "QwQinQziGv_c",
        "outputId": "2c2d4053-78f3-4636-bc86-6c12847f1980"
      },
      "execution_count": null,
      "outputs": [
        {
          "output_type": "stream",
          "name": "stdout",
          "text": [
            "True\n"
          ]
        }
      ]
    },
    {
      "cell_type": "code",
      "source": [
        "#Programme 17\n",
        "txt = \"The best things in life are free!\"\n",
        "if \"free\" in txt:\n",
        "  print(\"Yes, 'free' is present.\")"
      ],
      "metadata": {
        "colab": {
          "base_uri": "https://localhost:8080/"
        },
        "id": "cOcxtdlfJ_Ju",
        "outputId": "93511c27-1181-48e9-ec88-0607975da8ce"
      },
      "execution_count": null,
      "outputs": [
        {
          "output_type": "stream",
          "name": "stdout",
          "text": [
            "Yes, 'free' is present.\n"
          ]
        }
      ]
    },
    {
      "cell_type": "code",
      "source": [
        "#Programme 18\n",
        "a = \"Hello, World!\"\n",
        "print(a[2:5]) # Here we are slicing the word by using slicing syntax"
      ],
      "metadata": {
        "colab": {
          "base_uri": "https://localhost:8080/"
        },
        "id": "2Q2K4KAYKm1X",
        "outputId": "81c90316-b031-4add-b2d8-72c314d6d137"
      },
      "execution_count": null,
      "outputs": [
        {
          "output_type": "stream",
          "name": "stdout",
          "text": [
            "llo\n"
          ]
        }
      ]
    },
    {
      "cell_type": "code",
      "source": [
        "#Programme 19\n",
        "a = \"Hello, World!\"\n",
        "print(a[:5]) # here we have sliced a word befor 5th index and indexing starts from 0."
      ],
      "metadata": {
        "colab": {
          "base_uri": "https://localhost:8080/"
        },
        "id": "W0VKudGpLI-u",
        "outputId": "db310854-085f-4c72-a464-f62144be4884"
      },
      "execution_count": null,
      "outputs": [
        {
          "output_type": "stream",
          "name": "stdout",
          "text": [
            "Hello\n"
          ]
        }
      ]
    },
    {
      "cell_type": "code",
      "source": [
        "#Programme 20\n",
        "b = \"Hello, World!\" # here we are doing slicing after 2nd index\n",
        "print(b[2:])"
      ],
      "metadata": {
        "colab": {
          "base_uri": "https://localhost:8080/"
        },
        "id": "bm7mRrGpLm7e",
        "outputId": "71a5cc8c-4f08-4103-e8ed-396689989db4"
      },
      "execution_count": null,
      "outputs": [
        {
          "output_type": "stream",
          "name": "stdout",
          "text": [
            "llo, World!\n"
          ]
        }
      ]
    },
    {
      "cell_type": "code",
      "source": [
        "# ProgrammeNo:- 2 :- \n",
        "# Five is greater than two\n",
        "if 5 > 2 :\n",
        " print(\"Five is greater than Two\")"
      ],
      "metadata": {
        "colab": {
          "base_uri": "https://localhost:8080/"
        },
        "id": "di6pzneKxWtr",
        "outputId": "057a6759-0e65-48ce-8f56-bb1a72519b22"
      },
      "execution_count": null,
      "outputs": [
        {
          "output_type": "stream",
          "name": "stdout",
          "text": [
            "Five is greater than Two\n"
          ]
        }
      ]
    },
    {
      "cell_type": "code",
      "source": [
        "# ProgrammeNo:- 3 :- \n",
        "#Five is greater than two\n",
        "if 5>2 :\n",
        " print(\"Five is greater than two\")\n",
        " if 5>2 :  \n",
        "    print(\"Five is greater than two\")"
      ],
      "metadata": {
        "colab": {
          "base_uri": "https://localhost:8080/"
        },
        "id": "Uz17W7iOyICR",
        "outputId": "93593870-83b6-41ea-8506-bdb90ecc2c18"
      },
      "execution_count": null,
      "outputs": [
        {
          "output_type": "stream",
          "name": "stdout",
          "text": [
            "Five is greater than two\n",
            "Five is greater than two\n"
          ]
        }
      ]
    },
    {
      "cell_type": "code",
      "source": [
        "# ProgrammeNo:- 4 :-\n",
        "# Variables\n",
        "x=5\n",
        "y= \"Sai\" \n",
        "print(x)\n",
        "print(y)"
      ],
      "metadata": {
        "colab": {
          "base_uri": "https://localhost:8080/"
        },
        "id": "K7fHOA7gzmDD",
        "outputId": "55b1a2fe-c651-4a30-a245-2c7c369ae9b5"
      },
      "execution_count": null,
      "outputs": [
        {
          "output_type": "stream",
          "name": "stdout",
          "text": [
            "5\n",
            "Sai\n"
          ]
        }
      ]
    },
    {
      "cell_type": "code",
      "source": [
        "# ProgrammeNo:- 5 :-\n",
        "x = 4         # int\n",
        "x = \"SAI\"     #String\n",
        "print(x)"
      ],
      "metadata": {
        "colab": {
          "base_uri": "https://localhost:8080/"
        },
        "id": "LDQQbsBX06yM",
        "outputId": "df7c6f76-fd75-4cdd-d0c3-38e065c997b6"
      },
      "execution_count": null,
      "outputs": [
        {
          "output_type": "stream",
          "name": "stdout",
          "text": [
            "SAI\n"
          ]
        }
      ]
    },
    {
      "cell_type": "code",
      "source": [
        "# ProgrammeNo:- 6 :-\n",
        "x = 5\n",
        "y = \"Sai\"\n",
        "print(type(x))\n",
        "print(type(y))"
      ],
      "metadata": {
        "colab": {
          "base_uri": "https://localhost:8080/"
        },
        "id": "H1ScGUzv10SC",
        "outputId": "dbcdec41-b5a7-47f3-e4e8-941172038a6e"
      },
      "execution_count": null,
      "outputs": [
        {
          "output_type": "stream",
          "name": "stdout",
          "text": [
            "<class 'int'>\n",
            "<class 'str'>\n"
          ]
        }
      ]
    },
    {
      "cell_type": "code",
      "source": [
        "# ProgrammeNo:- 7 :-\n",
        "a = 4\n",
        "A = \"SAI\"\n",
        "print(a)\n",
        "print(A)  # a will not overwrite A"
      ],
      "metadata": {
        "colab": {
          "base_uri": "https://localhost:8080/"
        },
        "id": "bSmHWFXh2Viq",
        "outputId": "23d33308-4179-48ad-fb7a-c02588a3723f"
      },
      "execution_count": null,
      "outputs": [
        {
          "output_type": "stream",
          "name": "stdout",
          "text": [
            "4\n",
            "SAI\n"
          ]
        }
      ]
    },
    {
      "cell_type": "code",
      "source": [
        "# ProgrammeNo:- 8 :-\n",
        "x , y , z = \"Orange\" , \"Banana\" , \"Apple\"\n",
        "print(x)\n",
        "print(y)\n",
        "print(z)"
      ],
      "metadata": {
        "colab": {
          "base_uri": "https://localhost:8080/"
        },
        "id": "5uxIFbxZ3Edx",
        "outputId": "eecfde37-d29a-4457-bbf6-7ff03e2a9fb4"
      },
      "execution_count": null,
      "outputs": [
        {
          "output_type": "stream",
          "name": "stdout",
          "text": [
            "Orange\n",
            "Banana\n",
            "Apple\n"
          ]
        }
      ]
    },
    {
      "cell_type": "code",
      "source": [
        "# ProgrammeNo:- 9:-\n",
        "x = y = z = \"Orange\"\n",
        "print(x)\n",
        "print(y)\n",
        "print(z)"
      ],
      "metadata": {
        "colab": {
          "base_uri": "https://localhost:8080/"
        },
        "id": "TgBVE_1839M_",
        "outputId": "0a68b78b-6982-49ba-9533-3c1ec492cf69"
      },
      "execution_count": null,
      "outputs": [
        {
          "output_type": "stream",
          "name": "stdout",
          "text": [
            "Orange\n",
            "Orange\n",
            "Orange\n"
          ]
        }
      ]
    },
    {
      "cell_type": "code",
      "source": [
        "# ProgrammeNo:- 10:-\n",
        "fruits = [\"orane\" , \"Banana\" , \"Apple\"]\n",
        "x, y, z = fruits\n",
        "print(x)\n",
        "print(y)\n",
        "print(z)"
      ],
      "metadata": {
        "colab": {
          "base_uri": "https://localhost:8080/"
        },
        "id": "XtyzIROD4XX8",
        "outputId": "9b1aa8d3-ddce-41fc-c479-5293884cfaca"
      },
      "execution_count": null,
      "outputs": [
        {
          "output_type": "stream",
          "name": "stdout",
          "text": [
            "orane\n",
            "Banana\n",
            "Apple\n"
          ]
        }
      ]
    }
  ]
}