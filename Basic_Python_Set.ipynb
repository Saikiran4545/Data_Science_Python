{
  "nbformat": 4,
  "nbformat_minor": 0,
  "metadata": {
    "colab": {
      "provenance": [],
      "authorship_tag": "ABX9TyO62TqrHCEOKMRNXvwk+Yds",
      "include_colab_link": true
    },
    "kernelspec": {
      "name": "python3",
      "display_name": "Python 3"
    },
    "language_info": {
      "name": "python"
    }
  },
  "cells": [
    {
      "cell_type": "markdown",
      "metadata": {
        "id": "view-in-github",
        "colab_type": "text"
      },
      "source": [
        "<a href=\"https://colab.research.google.com/github/Saikiran4545/Data_Science_Python/blob/main/Basic_Python_Tuple.ipynb\" target=\"_parent\"><img src=\"https://colab.research.google.com/assets/colab-badge.svg\" alt=\"Open In Colab\"/></a>"
      ]
    },
    {
      "cell_type": "markdown",
      "source": [
        "Set Items\n",
        "\n",
        "Set items are unordered, unchangeable, and do not allow duplicate values.\n",
        "\n",
        "Unordered\n",
        "\n",
        "Unordered means that the items in a set do not have a defined order.\n",
        "\n",
        "Set items can appear in a different order every time you use them, and cannot be referred to by index or key.\n",
        "\n",
        "Unchangeable\n",
        "\n",
        "Set items are unchangeable, meaning that we cannot change the items after the set has been created.\n",
        "\n",
        "Once a set is created, you cannot change its items, but you can remove items and add new items.\n",
        "\n",
        "Duplicates Not Allowed\n",
        "\n",
        "Sets cannot have two items with the same value.\n",
        "\n",
        "Example\n",
        "\n",
        "Duplicate values will be ignored:\n",
        "\n",
        "thisset = {\"apple\", \"banana\", \"cherry\", \"apple\"}\n",
        "\n",
        "print(thisset)\n",
        "\n"
      ],
      "metadata": {
        "id": "ByqQrS5bn1Rz"
      }
    },
    {
      "cell_type": "code",
      "source": [
        "#To determine how many items a set has, use the len() function.\n",
        "\n",
        "#Example\n",
        "#Get the number of items in a set:\n",
        "\n",
        "thisset = {\"apple\", \"banana\", \"cherry\"}\n",
        "\n",
        "print(len(thisset))"
      ],
      "metadata": {
        "colab": {
          "base_uri": "https://localhost:8080/"
        },
        "id": "1Y1p15pSoiXa",
        "outputId": "e67e2905-51a0-4b68-a7b9-7c80ab07c6b3"
      },
      "execution_count": 1,
      "outputs": [
        {
          "output_type": "stream",
          "name": "stdout",
          "text": [
            "3\n"
          ]
        }
      ]
    },
    {
      "cell_type": "code",
      "source": [
        "#Set Items - Data Types\n",
        "#Set items can be of any data type:\n",
        "\n",
        "#Example\n",
        "#String, int and boolean data types:\n",
        "\n",
        "set1 = {\"apple\", \"banana\", \"cherry\"}\n",
        "set2 = {1, 5, 7, 9, 3}\n",
        "set3 = {True, False, False}\n",
        "#A set can contain different data types:\n",
        "\n",
        "#Example\n",
        "#A set with strings, integers and boolean values:\n",
        "\n",
        "set1 = {\"abc\", 34, True, 40, \"male\"}\n",
        "\n",
        "#From Python's perspective, sets are defined as objects with the data type 'set':\n",
        "\n",
        "\n",
        "#Example\n",
        "#What is the data type of a set?\n",
        "\n",
        "myset = {\"apple\", \"banana\", \"cherry\"}\n",
        "print(type(myset))\n"
      ],
      "metadata": {
        "colab": {
          "base_uri": "https://localhost:8080/"
        },
        "id": "NirDdF2Do7GG",
        "outputId": "6190cf52-1847-41c3-83ae-4ae443e66640"
      },
      "execution_count": 3,
      "outputs": [
        {
          "output_type": "stream",
          "name": "stdout",
          "text": [
            "<class 'set'>\n"
          ]
        }
      ]
    },
    {
      "cell_type": "markdown",
      "source": [
        "**Python Collections (Arrays)**\n",
        "\n",
        "There are four collection data types in the Python programming language:\n",
        "\n",
        "**List** is a collection which is ordered and changeable. Allows duplicate members.\n",
        "**Tuple** is a collection which is ordered and unchangeable. Allows duplicate members.\n",
        "**Set** is a collection which is unordered, unchangeable*, and unindexed. No duplicate members.\n",
        "**Dictionary** is a collection which is ordered** and changeable. No duplicate members.\n"
      ],
      "metadata": {
        "id": "JB6qUxinpcjJ"
      }
    },
    {
      "cell_type": "code",
      "source": [
        "#You cannot access items in a set by referring to an index or a key.\n",
        "\n",
        "#But you can loop through the set items using a for loop, or ask if a specified value is present in a set, by using the in keyword.\n",
        "\n",
        "#Example\n",
        "#Loop through the set, and print the values:\n",
        "\n",
        "thisset = {\"apple\", \"banana\", \"cherry\"}\n",
        "\n",
        "for x in thisset:\n",
        "  print(x)\n",
        "#Example\n",
        "#Check if \"banana\" is present in the set:\n",
        "\n",
        "thisset = {\"apple\", \"banana\", \"cherry\"}\n",
        "\n",
        "print(\"banana\" in thisset)\n"
      ],
      "metadata": {
        "colab": {
          "base_uri": "https://localhost:8080/"
        },
        "id": "z9G0LELiqNf6",
        "outputId": "866f9d46-987b-45ce-d8ba-4c9d5c564abb"
      },
      "execution_count": 4,
      "outputs": [
        {
          "output_type": "stream",
          "name": "stdout",
          "text": [
            "banana\n",
            "cherry\n",
            "apple\n",
            "True\n"
          ]
        }
      ]
    },
    {
      "cell_type": "code",
      "source": [
        "#Once a set is created, you cannot change its items, but you can add new items.\n",
        "\n",
        "#To add one item to a set use the add() method.\n",
        "\n",
        "#Example\n",
        "#Add an item to a set, using the add() method:\n",
        "\n",
        "thisset = {\"apple\", \"banana\", \"cherry\"}\n",
        "\n",
        "thisset.add(\"orange\")\n",
        "\n",
        "print(thisset)\n"
      ],
      "metadata": {
        "colab": {
          "base_uri": "https://localhost:8080/"
        },
        "id": "WY11nKfcq4NZ",
        "outputId": "a29bbd8f-ae9b-4962-a2b0-2a5d60738fe4"
      },
      "execution_count": 5,
      "outputs": [
        {
          "output_type": "stream",
          "name": "stdout",
          "text": [
            "{'banana', 'cherry', 'orange', 'apple'}\n"
          ]
        }
      ]
    },
    {
      "cell_type": "code",
      "source": [
        "#To add items from another set into the current set, use the update() method.\n",
        "\n",
        "#Example\n",
        "#Add elements from tropical into thisset:\n",
        "\n",
        "thisset = {\"apple\", \"banana\", \"cherry\"}\n",
        "tropical = {\"pineapple\", \"mango\", \"papaya\"}\n",
        "\n",
        "thisset.update(tropical)\n",
        "\n",
        "print(thisset)\n"
      ],
      "metadata": {
        "colab": {
          "base_uri": "https://localhost:8080/"
        },
        "id": "viMhNX1ArGjX",
        "outputId": "3e641d78-938a-43eb-b937-53d3c896e731"
      },
      "execution_count": 6,
      "outputs": [
        {
          "output_type": "stream",
          "name": "stdout",
          "text": [
            "{'cherry', 'papaya', 'pineapple', 'apple', 'banana', 'mango'}\n"
          ]
        }
      ]
    },
    {
      "cell_type": "code",
      "source": [
        "#The object in the update() method does not have to be a set, it can be any iterable object (tuples, lists, dictionaries etc.).\n",
        "\n",
        "#Example\n",
        "#Add elements of a list to at set:\n",
        "\n",
        "thisset = {\"apple\", \"banana\", \"cherry\"}\n",
        "mylist = [\"kiwi\", \"orange\"]\n",
        "\n",
        "thisset.update(mylist)\n",
        "\n",
        "print(thisset)"
      ],
      "metadata": {
        "colab": {
          "base_uri": "https://localhost:8080/"
        },
        "id": "Wym7n7H2rd2n",
        "outputId": "d97e8bb9-a522-47e3-9106-6bdad7e7b5d2"
      },
      "execution_count": 7,
      "outputs": [
        {
          "output_type": "stream",
          "name": "stdout",
          "text": [
            "{'cherry', 'apple', 'kiwi', 'banana', 'orange'}\n"
          ]
        }
      ]
    },
    {
      "cell_type": "code",
      "source": [
        "#To remove an item in a set, use the remove(), or the discard() method.\n",
        "\n",
        "#Example\n",
        "#Remove \"banana\" by using the remove() method:\n",
        "\n",
        "thisset = {\"apple\", \"banana\", \"cherry\"}\n",
        "\n",
        "thisset.remove(\"banana\")\n",
        "\n",
        "print(thisset)\n"
      ],
      "metadata": {
        "colab": {
          "base_uri": "https://localhost:8080/"
        },
        "id": "xiJ7bpK2r2c7",
        "outputId": "2c54c7c9-8426-429c-8618-7dfefe537234"
      },
      "execution_count": 8,
      "outputs": [
        {
          "output_type": "stream",
          "name": "stdout",
          "text": [
            "{'cherry', 'apple'}\n"
          ]
        }
      ]
    },
    {
      "cell_type": "code",
      "source": [
        "#You can also use the pop() method to remove an item, but this method will remove the last item. Remember that sets are unordered, so you will not know what item that gets removed.\n",
        "\n",
        "#The return value of the pop() method is the removed item.\n",
        "\n",
        "#Example\n",
        "#Remove the last item by using the pop() method:\n",
        "\n",
        "thisset = {\"apple\", \"banana\", \"cherry\"}\n",
        "\n",
        "x = thisset.pop()\n",
        "\n",
        "print(x)\n",
        "\n",
        "print(thisset)"
      ],
      "metadata": {
        "colab": {
          "base_uri": "https://localhost:8080/"
        },
        "id": "haEdLSousJiJ",
        "outputId": "f8ec5692-ef09-4abe-f3c3-64603483f1bf"
      },
      "execution_count": 9,
      "outputs": [
        {
          "output_type": "stream",
          "name": "stdout",
          "text": [
            "banana\n",
            "{'cherry', 'apple'}\n"
          ]
        }
      ]
    },
    {
      "cell_type": "code",
      "source": [
        "#The clear() method empties the set:\n",
        "\n",
        "thisset = {\"apple\", \"banana\", \"cherry\"}\n",
        "\n",
        "thisset.clear()\n",
        "\n",
        "print(thisset)"
      ],
      "metadata": {
        "colab": {
          "base_uri": "https://localhost:8080/"
        },
        "id": "nvABw8mlsjm1",
        "outputId": "92d28e74-afb3-42e0-8103-3f71365250dc"
      },
      "execution_count": 10,
      "outputs": [
        {
          "output_type": "stream",
          "name": "stdout",
          "text": [
            "set()\n"
          ]
        }
      ]
    },
    {
      "cell_type": "code",
      "source": [
        "#You can loop through the set items by using a for loop:\n",
        "\n",
        "#Example\n",
        "#Loop through the set, and print the values:\n",
        "\n",
        "thisset = {\"apple\", \"banana\", \"cherry\"}\n",
        "\n",
        "for x in thisset:\n",
        "  print(x)"
      ],
      "metadata": {
        "colab": {
          "base_uri": "https://localhost:8080/"
        },
        "id": "2KwTEJU5s-Ia",
        "outputId": "d491ca37-af01-47af-fc47-55d3f81a8577"
      },
      "execution_count": 12,
      "outputs": [
        {
          "output_type": "stream",
          "name": "stdout",
          "text": [
            "banana\n",
            "cherry\n",
            "apple\n"
          ]
        }
      ]
    },
    {
      "cell_type": "code",
      "source": [
        "#There are several ways to join two or more sets in Python.\n",
        "\n",
        "#You can use the union() method that returns a new set containing all items from both sets, or the update() method that inserts all the items from one set into another:\n",
        "\n",
        "#Example\n",
        "#The union() method returns a new set with all items from both sets:\n",
        "\n",
        "set1 = {\"a\", \"b\" , \"c\"}\n",
        "set2 = {1, 2, 3}\n",
        "\n",
        "set3 = set1.union(set2)\n",
        "print(set3)\n"
      ],
      "metadata": {
        "colab": {
          "base_uri": "https://localhost:8080/"
        },
        "id": "Igw8L8WitRsh",
        "outputId": "fd9108b5-961c-4c81-e737-af746a8c638e"
      },
      "execution_count": 13,
      "outputs": [
        {
          "output_type": "stream",
          "name": "stdout",
          "text": [
            "{'b', 1, 2, 3, 'c', 'a'}\n"
          ]
        }
      ]
    },
    {
      "cell_type": "code",
      "source": [
        "#The update() method inserts the items in set2 into set1:\n",
        "\n",
        "set1 = {\"a\", \"b\" , \"c\"}\n",
        "set2 = {1, 2, 3}\n",
        "\n",
        "set1.update(set2)\n",
        "print(set1)"
      ],
      "metadata": {
        "colab": {
          "base_uri": "https://localhost:8080/"
        },
        "id": "17ERc80gtfiq",
        "outputId": "5bfdb122-5653-4c02-e5dc-a623ea426894"
      },
      "execution_count": 14,
      "outputs": [
        {
          "output_type": "stream",
          "name": "stdout",
          "text": [
            "{'b', 1, 2, 3, 'c', 'a'}\n"
          ]
        }
      ]
    },
    {
      "cell_type": "code",
      "source": [
        "#The intersection_update() method will keep only the items that are present in both sets.\n",
        "\n",
        "#Example\n",
        "#Keep the items that exist in both set x, and set y:\n",
        "\n",
        "x = {\"apple\", \"banana\", \"cherry\"}\n",
        "y = {\"google\", \"microsoft\", \"apple\"}\n",
        "\n",
        "x.intersection_update(y)\n",
        "\n",
        "print(x)"
      ],
      "metadata": {
        "colab": {
          "base_uri": "https://localhost:8080/"
        },
        "id": "v8cppZUbt55M",
        "outputId": "f4986805-59fd-4ecc-dc3b-42657eafaa3e"
      },
      "execution_count": 15,
      "outputs": [
        {
          "output_type": "stream",
          "name": "stdout",
          "text": [
            "{'apple'}\n"
          ]
        }
      ]
    },
    {
      "cell_type": "code",
      "source": [
        "#Keep All, But NOT the Duplicates\n",
        "#The symmetric_difference_update() method will keep only the elements that are NOT present in both sets.\n",
        "\n",
        "#Example\n",
        "#Keep the items that are not present in both sets:\n",
        "\n",
        "x = {\"apple\", \"banana\", \"cherry\"}\n",
        "y = {\"google\", \"microsoft\", \"apple\"}\n",
        "\n",
        "x.symmetric_difference_update(y)\n",
        "\n",
        "print(x)"
      ],
      "metadata": {
        "colab": {
          "base_uri": "https://localhost:8080/"
        },
        "id": "q1azr2EBuDz3",
        "outputId": "5d86071a-07ce-493c-d5a8-8b9c811bc11b"
      },
      "execution_count": 16,
      "outputs": [
        {
          "output_type": "stream",
          "name": "stdout",
          "text": [
            "{'cherry', 'microsoft', 'google', 'banana'}\n"
          ]
        }
      ]
    },
    {
      "cell_type": "markdown",
      "source": [
        "Set Methods\n",
        "\n",
        "Python has a set of built-in methods that you can use on sets.\n",
        "\n",
        "Method\tDescription\n",
        "add()\tAdds an element to the set\n",
        "\n",
        "clear()\tRemoves all the elements from the set\n",
        "\n",
        "copy()\tReturns a copy of the set\n",
        "\n",
        "difference()\tReturns a set containing the difference between two or more sets\n",
        "\n",
        "difference_update()\tRemoves the items in this set that are also included in another, specified set\n",
        "\n",
        "discard()\tRemove the specified item\n",
        "\n",
        "intersection()\tReturns a set, that is the intersection of two other sets\n",
        "\n",
        "intersection_update()\tRemoves the items in this set that are not present in other, specified set(s)\n",
        "\n",
        "isdisjoint()\tReturns whether two sets have a intersection or not\n",
        "\n",
        "issubset()\tReturns whether another set contains this set or not\n",
        "\n",
        "issuperset()\tReturns whether this set contains another set or not\n",
        "\n",
        "pop()\tRemoves an element from the set\n",
        "\n",
        "remove()\tRemoves the specified element\n",
        "symmetric_difference()\tReturns a set with the symmetric differences of two sets\n",
        "symmetric_difference_update()\tinserts the symmetric differences from this set and another\n",
        "union()\tReturn a set containing the union of sets\n",
        "\n",
        "update()\tUpdate the set with the union of this set and others\n"
      ],
      "metadata": {
        "id": "QiJIIMvDuYSk"
      }
    }
  ]
}
